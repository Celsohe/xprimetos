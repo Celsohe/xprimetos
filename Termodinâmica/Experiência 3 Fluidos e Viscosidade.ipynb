{
 "cells": [
  {
   "cell_type": "code",
   "execution_count": null,
   "metadata": {},
   "outputs": [],
   "source": []
  },
  {
   "cell_type": "markdown",
   "metadata": {},
   "source": [
    "# Experiência 3 Fluidos e Viscosidade"
   ]
  },
  {
   "cell_type": "markdown",
   "metadata": {},
   "source": [
    "## 1. Objetivo"
   ]
  },
  {
   "cell_type": "markdown",
   "metadata": {},
   "source": [
    "Determinar a viscosidade do fluido"
   ]
  },
  {
   "cell_type": "markdown",
   "metadata": {},
   "source": [
    "## 2. Informações Teóricas"
   ]
  },
  {
   "cell_type": "markdown",
   "metadata": {},
   "source": [
    "Viscosidade é uma grandeza física que nos fornece a medida da resistência de um fluido à tensões de cisalhamento. A viscosidade de um gás aumenta com a temperatura, enquanto que a de um líquido diminui. Para pressões moderadas, a viscosidade independe da pressão, mas para pressões muito altas a viscosidade dos gases e da maioria dos líquidos não tem lei bem definida de variação.\n",
    "\tQuando um corpo sólido se move em um fluido, a camada de fluido adjacente ao sólido adere à superfície do mesmo dando origem a uma força resistiva ao seu movimento. No caso de uma esfera de raio   movendo-se com velocidade   constante num meio infinito de viscosidade  , essa força de atrito é dada por, \n",
    "\n"
   ]
  },
  {
   "cell_type": "markdown",
   "metadata": {},
   "source": [
    "$$\n",
    "\\begin{equation}\n",
    "\\overrightarrow{F}= - 6 \\pi \\eta r \\overrightarrow{v}\n",
    "\\label{eq:atrito1} \\tag{1}\n",
    "\\end{equation}\n",
    "$$"
   ]
  },
  {
   "cell_type": "markdown",
   "metadata": {},
   "source": [
    "onde o sinal negativo indica que a direção da força é oposta à da velocidade. No S.I., a unidade da viscosidade é $N\\cdot s \\cdot m^{-2}$   . Todavia, no sistema Gaussiano utilizamos o poise $(1P = 1g \\cdot cm^{-1} \\cdot s^{-1})$ .\n"
   ]
  },
  {
   "cell_type": "markdown",
   "metadata": {},
   "source": [
    "A expressão acima é válida para um regime de escolamento laminar, e é conhecida como Lei de Stokes. Se o meio não é infinito, a fórmula acima deve ser corrigida para se levar em conta as dimensões do recipiente. No caso do movimento de uma esfera de raio   se movendo no eixo de um tubo cilíndrico de raio $R$, a força de atrito pode ser escrita como:"
   ]
  },
  {
   "cell_type": "markdown",
   "metadata": {},
   "source": [
    "$$\n",
    "\\begin{align}\n",
    "F_a = (1+C)F_{a \\infty}\n",
    "\\label{eq:atrito2} \\tag{2}\n",
    "\\end{align}\n",
    "$$"
   ]
  },
  {
   "cell_type": "markdown",
   "metadata": {},
   "source": [
    "onde $C = (9r/4r)^2 + (9r/4r)$ é conhecido como lei de Landerburg."
   ]
  },
  {
   "cell_type": "markdown",
   "metadata": {},
   "source": [
    "## 3. Queda de Esferas em Meio Viscoso"
   ]
  },
  {
   "cell_type": "markdown",
   "metadata": {},
   "source": [
    "Quando um corpo se move através de um fluido sob a ação de uma força $\\overrightarrow{F}$ , a força resultante sobre é dada por:"
   ]
  },
  {
   "cell_type": "markdown",
   "metadata": {},
   "source": [
    "$$\n",
    "\\begin{align}\n",
    "\\overrightarrow{F} + \\overrightarrow{F_a} + \\overrightarrow{F_P}+\\overrightarrow{F_E}\n",
    "\\end{align}\n",
    "$$"
   ]
  },
  {
   "cell_type": "markdown",
   "metadata": {},
   "source": [
    "onde $\\overrightarrow{F_a}$ é a força de atrito devido ao fluido, $\\overrightarrow{F_P}$ é a força gravitacional e $\\overrightarrow{F_E}$ é a força do empuxo."
   ]
  },
  {
   "cell_type": "markdown",
   "metadata": {},
   "source": [
    "Da Eq. (1) vemos que a força de atrito é proporcional à velocidade da corpo. Para uma esfera abandonada a partir do repouso, a medida em que sua velocidade aumenta devido a ação da força peso, aumenta também a força de atrito sobre a mesma, até que esta última contrabalance idealmente às forças peso e de empuxo, anulando portanto a aceleração do corpo. O corpo então prossegue o movimento com velocide constante, que denominamos por velocidade limite $v_{limite}$ ."
   ]
  },
  {
   "cell_type": "markdown",
   "metadata": {},
   "source": [
    "Supondo que o corpo seja uma esfera de raio $ r$  e densidade de massa $ \\rho_esf $ , a equação acima resulta na seguinte expressão,"
   ]
  },
  {
   "cell_type": "markdown",
   "metadata": {},
   "source": [
    "$$\n",
    "6 \\pi \\eta r v_{corr} - \\frac{3}{4} \\pi r^3 (\\rho_{est} - \\rho)g = 0\n",
    "$$"
   ]
  },
  {
   "cell_type": "markdown",
   "metadata": {},
   "source": [
    "onde $\\rho$ a densidade de massa do fluido $e^{v_{corr}} = (1+C)v_{limite}$. Logo, ao se estabelecer o equilíbrio, a viscosidade do fluído pode ser calculada por:"
   ]
  },
  {
   "cell_type": "markdown",
   "metadata": {},
   "source": [
    "$$\n",
    "\\eta = \\frac{2}{9} \\left( \\frac{\\rho_{esf}-\\rho}{v_{corr}} \\right)gr^2\n",
    "$$"
   ]
  },
  {
   "cell_type": "markdown",
   "metadata": {},
   "source": [
    "## 4. Código Para o Experimento"
   ]
  },
  {
   "cell_type": "code",
   "execution_count": 1,
   "metadata": {},
   "outputs": [
    {
     "data": {
      "text/html": [
       "<div id=\"glowscript\" class=\"glowscript\"></div>"
      ],
      "text/plain": [
       "<IPython.core.display.HTML object>"
      ]
     },
     "metadata": {},
     "output_type": "display_data"
    },
    {
     "data": {
      "application/javascript": [
       "if (typeof Jupyter !== \"undefined\") { window.__context = { glowscript_container: $(\"#glowscript\").removeAttr(\"id\")};}else{ element.textContent = ' ';}"
      ],
      "text/plain": [
       "<IPython.core.display.Javascript object>"
      ]
     },
     "metadata": {},
     "output_type": "display_data"
    }
   ],
   "source": [
    "import numpy as np\n",
    "from vpython import *\n",
    "import matplotlib.pyplot as plt\n",
    "import random"
   ]
  },
  {
   "cell_type": "code",
   "execution_count": 2,
   "metadata": {
    "scrolled": true
   },
   "outputs": [
    {
     "data": {
      "text/html": [
       "<div id=\"glowscript\" class=\"glowscript\"></div>"
      ],
      "text/plain": [
       "<IPython.core.display.HTML object>"
      ]
     },
     "metadata": {},
     "output_type": "display_data"
    },
    {
     "data": {
      "application/javascript": [
       "if (typeof Jupyter !== \"undefined\") { window.__context = { glowscript_container: $(\"#glowscript\").removeAttr(\"id\")};}else{ element.textContent = ' ';}"
      ],
      "text/plain": [
       "<IPython.core.display.Javascript object>"
      ]
     },
     "metadata": {},
     "output_type": "display_data"
    }
   ],
   "source": [
    "cena = canvas(\n",
    "                title=' Fluidos: Viscosidade ', # Criar o palco onde ocorrerá o movimento\n",
    "                width=800, height=400,\n",
    "                userzoom = True,                         # O usuário não pode aproximar ou afastar a câmera\n",
    "                userspin = False,                         # O usuário pode girar a câmera.\n",
    "                ambient  = color.gray(.3),               # Cor da iluminação dos objetos\n",
    "                  center = vector(0,30,0),              # Posição central do código\n",
    "              background = vec(.6,.9,.6)                   # Cor do background\n",
    "         )   "
   ]
  },
  {
   "cell_type": "code",
   "execution_count": 3,
   "metadata": {},
   "outputs": [],
   "source": [
    "### Forças envolvidas:"
   ]
  },
  {
   "cell_type": "code",
   "execution_count": 4,
   "metadata": {},
   "outputs": [],
   "source": [
    "def peso():\n",
    "    return m*g\n",
    "\n",
    "def empuxo():\n",
    "    return - vol*dens*g\n",
    "\n",
    "def atrito():\n",
    "    F = -6* np.pi * visc * xfera.radius * mag(xfera.vel)\n",
    "    C = ((9*xfera.radius)/(4*tubo.radius))**2 + ((9*xfera.radius)/(4*tubo.radius))\n",
    "    return (1 + C) * F"
   ]
  },
  {
   "cell_type": "code",
   "execution_count": 5,
   "metadata": {},
   "outputs": [
    {
     "data": {
      "application/javascript": [
       "if (typeof Jupyter !== \"undefined\") {require.undef(\"nbextensions/vpython_libraries/glow.min\");}else{element.textContent = ' ';}"
      ],
      "text/plain": [
       "<IPython.core.display.Javascript object>"
      ]
     },
     "metadata": {},
     "output_type": "display_data"
    },
    {
     "data": {
      "application/javascript": [
       "if (typeof Jupyter !== \"undefined\") {require.undef(\"nbextensions/vpython_libraries/glowcomm\");}else{element.textContent = ' ';}"
      ],
      "text/plain": [
       "<IPython.core.display.Javascript object>"
      ]
     },
     "metadata": {},
     "output_type": "display_data"
    },
    {
     "data": {
      "application/javascript": [
       "if (typeof Jupyter !== \"undefined\") {require.undef(\"nbextensions/vpython_libraries/jquery-ui.custom.min\");}else{element.textContent = ' ';}"
      ],
      "text/plain": [
       "<IPython.core.display.Javascript object>"
      ]
     },
     "metadata": {},
     "output_type": "display_data"
    },
    {
     "data": {
      "application/javascript": [
       "if (typeof Jupyter !== \"undefined\") {require([\"nbextensions/vpython_libraries/glow.min\"], function(){console.log(\"GLOW LOADED\");});}else{element.textContent = ' ';}"
      ],
      "text/plain": [
       "<IPython.core.display.Javascript object>"
      ]
     },
     "metadata": {},
     "output_type": "display_data"
    },
    {
     "data": {
      "application/javascript": [
       "if (typeof Jupyter !== \"undefined\") {require([\"nbextensions/vpython_libraries/glowcomm\"], function(){console.log(\"GLOWCOMM LOADED\");});}else{element.textContent = ' ';}"
      ],
      "text/plain": [
       "<IPython.core.display.Javascript object>"
      ]
     },
     "metadata": {},
     "output_type": "display_data"
    },
    {
     "data": {
      "application/javascript": [
       "if (typeof Jupyter !== \"undefined\") {require([\"nbextensions/vpython_libraries/jquery-ui.custom.min\"], function(){console.log(\"JQUERY LOADED\");});}else{element.textContent = ' ';}"
      ],
      "text/plain": [
       "<IPython.core.display.Javascript object>"
      ]
     },
     "metadata": {},
     "output_type": "display_data"
    }
   ],
   "source": [
    "tubo = cylinder(pos=vector(0,60,0), \n",
    "                axis=vector(0,-60,0), \n",
    "                radius=10,\n",
    "                opacity=.3,\n",
    "                color = color.blue)\n",
    "\n",
    "xfera =  sphere(pos=tubo.pos, \n",
    "                radius=.9,\n",
    "                vel=vec(0,0,0),\n",
    "                color = color.black)"
   ]
  },
  {
   "cell_type": "code",
   "execution_count": 6,
   "metadata": {},
   "outputs": [],
   "source": [
    "### Grandezas "
   ]
  },
  {
   "cell_type": "code",
   "execution_count": 7,
   "metadata": {},
   "outputs": [],
   "source": [
    "m=10\n",
    "g=10\n",
    "t=0\n",
    "dt=.01\n",
    "vol = 4/3*np.pi*xfera.radius**3\n",
    "axisp = vec(0,-1,0)\n",
    "dens = random.uniform(.4, .8, )\n",
    "visc = random.uniform(.2, .5, )"
   ]
  },
  {
   "cell_type": "code",
   "execution_count": 8,
   "metadata": {},
   "outputs": [],
   "source": [
    "### Palco para o Movimento."
   ]
  },
  {
   "cell_type": "code",
   "execution_count": 9,
   "metadata": {},
   "outputs": [],
   "source": [
    "posicao=[]\n",
    "tempo=[]\n",
    "\n",
    "while (xfera.pos.y > 0 ):\n",
    "    \n",
    "    rate(1000)\n",
    "    acc = (peso()+empuxo()+atrito())/m\n",
    "    \n",
    "    xfera.vel = xfera.vel + acc*dt*axisp\n",
    "    xfera.pos = xfera.pos + xfera.vel*dt + acc/2*axisp*dt**2\n",
    "    t=t+dt\n",
    "\n",
    "    \n",
    "    \n",
    "    if  xfera.pos.y > 0:\n",
    "       posicao.append(round(xfera.pos.y,2))\n",
    "       tempo.append(round(t,3))"
   ]
  },
  {
   "cell_type": "code",
   "execution_count": 11,
   "metadata": {},
   "outputs": [
    {
     "data": {
      "text/plain": [
       "[<matplotlib.lines.Line2D at 0x171af8004c8>]"
      ]
     },
     "execution_count": 11,
     "metadata": {},
     "output_type": "execute_result"
    },
    {
     "data": {
      "image/png": "[encoded data removed]",
      "text/plain": [
       "<Figure size 432x288 with 1 Axes>"
      ]
     },
     "metadata": {
      "needs_background": "light"
     },
     "output_type": "display_data"
    }
   ],
   "source": [
    "plt.plot(tempo,posicao)"
   ]
  },
  {
   "cell_type": "markdown",
   "metadata": {},
   "source": [
    "## 5. Procedimento Experimental"
   ]
  },
  {
   "cell_type": "markdown",
   "metadata": {},
   "source": [
    "Com os valores de obtidos das esferas metálicas em um líquido viscoso, contido em um tubo vertical. Note que a velocidade de queda das esferas se torna constante somente após elas percorrerem uma certa distância dentro do fluido. Sendo assim, não faça suas medidas a partir da superfície do mesmo.\n",
    "Meça, com as respectivas incertezas: \n",
    "•\tA temperatura do líquido no início e no final das medidas; \n",
    "•\tA massa específica ( ) do líquido com densímetro; \n",
    "•\tA massa média das esferas; \n",
    "•\tO diâmetro do tubo;\n",
    "•\tA distância a ser percorrida pelas esferas em queda;\n",
    "•\tO diâmetro de cada esfera metálica;\n",
    "•\tO tempo de queda de cada esfera no meio.\n"
   ]
  },
  {
   "cell_type": "markdown",
   "metadata": {},
   "source": [
    "## 6. Análise dos dados "
   ]
  },
  {
   "cell_type": "markdown",
   "metadata": {},
   "source": [
    "A.\tPorque é necessário medir a temperatura ambiente no início e no final das suas medidas de viscosidade? \n",
    "B.\tCalcular o valor médio e respectiva incerteza para o tempo de queda e distância.\n",
    "C.\tCalcular a velocidade limite ( ) e a respectiva incerteza.\n",
    "D.\tCalcular a velocidade corrigida ( ) e sua incerteza.\n",
    "E.\tCalcular a densidade das esferas e sua incerteza.\n",
    "F.\tCalcular a viscosidade do fluido e sua incerteza.\n"
   ]
  }
 ],
 "metadata": {
  "kernelspec": {
   "display_name": "Python 3",
   "language": "python",
   "name": "python3"
  },
  "language_info": {
   "codemirror_mode": {
    "name": "ipython",
    "version": 3
   },
   "file_extension": ".py",
   "mimetype": "text/x-python",
   "name": "python",
   "nbconvert_exporter": "python",
   "pygments_lexer": "ipython3",
   "version": "3.7.6"
  }
 },
 "nbformat": 4,
 "nbformat_minor": 4
}
