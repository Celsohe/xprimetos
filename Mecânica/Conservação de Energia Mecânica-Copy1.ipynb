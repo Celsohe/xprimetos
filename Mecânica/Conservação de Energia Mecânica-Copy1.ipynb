{
 "cells": [
  {
   "cell_type": "markdown",
   "metadata": {},
   "source": [
    "# Conservação de Energia Mecânica"
   ]
  },
  {
   "cell_type": "markdown",
   "metadata": {},
   "source": [
    "![ilustração](fig\\energy.png)\n",
    "O uso da concepção de energia para a resolução de problemas de cinemática é importante, sobretudo, em situações nas quais a força depende da posição, como no caso das forças elásticas. Na ausência de forças dissipativas (ou quando elas podem ser desprezadas), a energia mecânica se conserva. Com a energia mecânica conservada, o cálculo de velocidades e posições do corpo em questão pode ser feito para qualquer instante de tempo. Isto é particularmente utilizado em sistemas oscilantes. As energias potencial e cinética podem variar, mas a soma delas se mantém constante no tempo."
   ]
  },
  {
   "cell_type": "markdown",
   "metadata": {},
   "source": [
    "## Experiência  Proposta"
   ]
  },
  {
   "cell_type": "markdown",
   "metadata": {},
   "source": [
    "$\\textbf{Objetivos:}$\n",
    "- Observar e medir a conservação da energia mecânica.\n",
    "- Analisar as transferências de energia em um sistema oscilante.\n",
    "- Efetuar medidas primárias de deslocamento em 2D e tempo.\n",
    "- Calcular medidas secundárias de velocidade em 2D.\n",
    "- Construir e analisar gráficos de grandezas cinemáticas.\n",
    "- Construir e analisar gráficos de energia mecânica.\n",
    "- introduzir a automação e digitalização na aquisição de dados."
   ]
  },
  {
   "cell_type": "markdown",
   "metadata": {},
   "source": [
    "## Montagem do Código"
   ]
  },
  {
   "cell_type": "markdown",
   "metadata": {},
   "source": [
    "![imagem](fig/trilho.jpg)\n",
    "Os equipamentos utilizados para este experimentos consistem em um plano inclinado, uma mola e um carrinho com peso variável. O carrinho é preso a uma mola e a mola, por sua vez, é presa em uma haste perpendicular ao plano. O carrinho é colocado sobre o plano inclinado que desloca em movimento oscilatório. Para a construção do modelo iremos, na seguinte ordem:\n",
    "\n",
    " -  Importar as bibliotecas necessárias e criar o palco onde vizualizaremos o movimento. \n",
    " -  Definir os objetos e suas características presentes na cena. \n",
    " -  Determinar a física envolvida no objeto."
   ]
  },
  {
   "cell_type": "markdown",
   "metadata": {},
   "source": [
    "### Importando as bibliotecas e criando um palco para o movimento."
   ]
  },
  {
   "cell_type": "markdown",
   "metadata": {},
   "source": [
    "O primeiro passo é a importação das bibliotecas utilizadas, este procedimento é padrão para python. Utilizamos duas bibliotecas: vpython para a visualização e numpy utilizado para o cálculo. "
   ]
  },
  {
   "cell_type": "code",
   "execution_count": 1,
   "metadata": {},
   "outputs": [
    {
     "data": {
      "text/html": [
       "<div id=\"glowscript\" class=\"glowscript\"></div>"
      ],
      "text/plain": [
       "<IPython.core.display.HTML object>"
      ]
     },
     "metadata": {},
     "output_type": "display_data"
    },
    {
     "data": {
      "application/javascript": [
       "if (typeof Jupyter !== \"undefined\") { window.__context = { glowscript_container: $(\"#glowscript\").removeAttr(\"id\")};}else{ element.textContent = ' ';}"
      ],
      "text/plain": [
       "<IPython.core.display.Javascript object>"
      ]
     },
     "metadata": {},
     "output_type": "display_data"
    }
   ],
   "source": [
    "from vpython import * #Importar a biblioteca visual para o Python.\n",
    "import numpy as np    #Importar a biblioteca utilizada para cálculos."
   ]
  },
  {
   "cell_type": "markdown",
   "metadata": {},
   "source": [
    "Com a biblioteca importada, iremos criar o palco onde ocorrerá o movimento.  A palco criado será disponibilizado abaixo do próximo bloco de código. Esta tela pode ser redimensionada e os objetos podem ser rotacionados utilizando o mouse. Especificamente para este experimento, foi retirado a opção de aproximar ou afastar a câmera. "
   ]
  },
  {
   "cell_type": "code",
   "execution_count": 2,
   "metadata": {},
   "outputs": [
    {
     "data": {
      "text/html": [
       "<div id=\"glowscript\" class=\"glowscript\"></div>"
      ],
      "text/plain": [
       "<IPython.core.display.HTML object>"
      ]
     },
     "metadata": {},
     "output_type": "display_data"
    },
    {
     "data": {
      "application/javascript": [
       "if (typeof Jupyter !== \"undefined\") { window.__context = { glowscript_container: $(\"#glowscript\").removeAttr(\"id\")};}else{ element.textContent = ' ';}"
      ],
      "text/plain": [
       "<IPython.core.display.Javascript object>"
      ]
     },
     "metadata": {},
     "output_type": "display_data"
    }
   ],
   "source": [
    " cena = canvas(\n",
    "                title='Conservação de Energia Mecânica', # Criar o palco onde ocorrerá o movimento\n",
    "                width=800, height=400,                   # Tamanho da imagem\n",
    "                userzoom = False,                        # O usuário não pode aproximar ou afastar a câmera\n",
    "                userspin = True,                         # O usuário pode girar a câmera.\n",
    "                      up = vec(0,1,0),                   # Determina a posição UP.\n",
    "                ambient  = color.gray(.3),               # Cor da iluminação dos objetos\n",
    "                  center = vector(0,0,0),                # Posição central do código\n",
    "              background = vec(.6,.9,.6)                 # Cor do background\n",
    "         )       \n",
    "    "
   ]
  },
  {
   "cell_type": "markdown",
   "metadata": {},
   "source": [
    "### Objetos e Suas Características"
   ]
  },
  {
   "cell_type": "markdown",
   "metadata": {},
   "source": [
    "![imagem](fig/guia.jpg)"
   ]
  },
  {
   "cell_type": "markdown",
   "metadata": {},
   "source": [
    "Acima está disposto  os objetos que compõem o experimento. Cada objeto é uma variável cujo nome é representado na figura. Devido a nomenclatura do código em python foi utilizado nomes em minusculas para a identificação. Começaremos identificando o ângulo de inclinação \"inclinacao\" e o eixo de principal \"axisp\", onde ocorre o movimento."
   ]
  },
  {
   "cell_type": "code",
   "execution_count": 3,
   "metadata": {},
   "outputs": [],
   "source": [
    "inclinacao = np.divide(45*np.pi,180)                         # Ângulo em radianos. \n",
    "axisp = vec(np.cos(inclinacao),np.sin(inclinacao),0)         # Vetor onde ocorre o movimento"
   ]
  },
  {
   "cell_type": "markdown",
   "metadata": {},
   "source": [
    "O próximo código descreve a massa deslocada no movimento. Este objeto apresenta as propriedades como tamanho,  massa e velocidade. Note que os objetos são rotacionados de acordo com a inclinação proposta no bloco anterior."
   ]
  },
  {
   "cell_type": "code",
   "execution_count": 4,
   "metadata": {},
   "outputs": [
    {
     "data": {
      "application/javascript": [
       "if (typeof Jupyter !== \"undefined\") {require.undef(\"nbextensions/vpython_libraries/glow.min\");}else{element.textContent = ' ';}"
      ],
      "text/plain": [
       "<IPython.core.display.Javascript object>"
      ]
     },
     "metadata": {},
     "output_type": "display_data"
    },
    {
     "data": {
      "application/javascript": [
       "if (typeof Jupyter !== \"undefined\") {require.undef(\"nbextensions/vpython_libraries/glowcomm\");}else{element.textContent = ' ';}"
      ],
      "text/plain": [
       "<IPython.core.display.Javascript object>"
      ]
     },
     "metadata": {},
     "output_type": "display_data"
    },
    {
     "data": {
      "application/javascript": [
       "if (typeof Jupyter !== \"undefined\") {require.undef(\"nbextensions/vpython_libraries/jquery-ui.custom.min\");}else{element.textContent = ' ';}"
      ],
      "text/plain": [
       "<IPython.core.display.Javascript object>"
      ]
     },
     "metadata": {},
     "output_type": "display_data"
    },
    {
     "data": {
      "application/javascript": [
       "if (typeof Jupyter !== \"undefined\") {require([\"nbextensions/vpython_libraries/glow.min\"], function(){console.log(\"GLOW LOADED\");});}else{element.textContent = ' ';}"
      ],
      "text/plain": [
       "<IPython.core.display.Javascript object>"
      ]
     },
     "metadata": {},
     "output_type": "display_data"
    },
    {
     "data": {
      "application/javascript": [
       "if (typeof Jupyter !== \"undefined\") {require([\"nbextensions/vpython_libraries/glowcomm\"], function(){console.log(\"GLOWCOMM LOADED\");});}else{element.textContent = ' ';}"
      ],
      "text/plain": [
       "<IPython.core.display.Javascript object>"
      ]
     },
     "metadata": {},
     "output_type": "display_data"
    },
    {
     "data": {
      "application/javascript": [
       "if (typeof Jupyter !== \"undefined\") {require([\"nbextensions/vpython_libraries/jquery-ui.custom.min\"], function(){console.log(\"JQUERY LOADED\");});}else{element.textContent = ' ';}"
      ],
      "text/plain": [
       "<IPython.core.display.Javascript object>"
      ]
     },
     "metadata": {},
     "output_type": "display_data"
    }
   ],
   "source": [
    "carro = box(                                 # Cria o objeto carro, correspondente a massa\n",
    "     length = 1.5,height=.4, width=.5,       # Tamanho da massa\n",
    "                pos = vec(0,0,0),            # Posição inicial do centro do objeto\n",
    "                vel = vec(0,0,0),            # Velocidade inicial do objeto\n",
    "              massa = 7,                     # Massa do objeto\n",
    "              color = color.cyan             # Cor do Objeto\n",
    "           ) \n",
    "\n",
    "carro.rotate(\n",
    "              angle = inclinacao,             # Informação par a rotação  do objeto\n",
    "               axis = vec(0,0,1)              # Eixo em que o objeto gira\n",
    "             )"
   ]
  },
  {
   "cell_type": "markdown",
   "metadata": {},
   "source": [
    "O próximo bloco de código cria o suporte do movimento correspondente a superfície branca abaixo do \"carro \". O bloco de código abaixo compila também um pequeno apoio para a mola na parte superior da superfície. Enquanto \"suporte\" possuí a propriedade \"atrito\", o apoio para a mola é estético e tem como objetivo apenas localizar onde a mola esta presa."
   ]
  },
  {
   "cell_type": "code",
   "execution_count": 5,
   "metadata": {},
   "outputs": [],
   "source": [
    "suporte=box(\n",
    "             pos = carro.pos - vec(0,.2,0),    # Posição relativao ao eixo principal \n",
    "          length = 10, height=.1, width=1,      # Tamanho do suporte\n",
    "           color = color.white,                # cor do objeto\n",
    "          atrito = .006\n",
    "           )\n",
    "\n",
    "suporte.rotate(\n",
    "               origin = vec(0,0,0),\n",
    "                angle = inclinacao,           # Informação de rotação do objeto\n",
    "                 axis = vec(0,0,1),           # Eixo de Rotação\n",
    "              )\n",
    "\n",
    "sup=box(\n",
    "         pos = vec(np.cos(inclinacao)*suporte.length/2,np.sin(inclinacao)*suporte.length/2,0),     # Posição do apoio  \n",
    "      length = .3, height=.45, width=1,                                                            # Suporte da mesa\n",
    "       color = color.white,                                                                        # cor do objeto\n",
    "        )\n",
    "\n",
    "sup.rotate(\n",
    "             angle = inclinacao,           # Informação de rotação do objeto\n",
    "          #  origin = vec(0,0,0),\n",
    "              axis = vec(0,0,1)             # Eixo de Rotação\n",
    "            )"
   ]
  },
  {
   "cell_type": "markdown",
   "metadata": {},
   "source": [
    "O próximo passo é criar a mola e as suas propriedades. A mola, diferente da maior parte dos objetos, possui o ponto de referencia para a posição em uma de suas extremidades. Será utilizado as dimensões de posição do \"suporte\" como referência."
   ]
  },
  {
   "cell_type": "code",
   "execution_count": 6,
   "metadata": {},
   "outputs": [],
   "source": [
    "mola=helix(  \n",
    "          length0 = suporte.length/2,                        # Tamanho original da mola e tamanho\n",
    "           length = suporte.length,                        # Tamanho da mola comprimida/exticada \n",
    "              pos = vec(np.cos(inclinacao)*suporte.length/2,np.sin(inclinacao)*suporte.length/2,0),     \n",
    "             radius = 0.1,                    # Raio da mola\n",
    "             k = 8,                          # Constante de Hook da mola\n",
    "             thickness = 0.08,                # espessura\n",
    "             coils = 12,                      # Número de voltas         \n",
    "             color = color.red                # Cor do objeto\n",
    "           )\n",
    "\n",
    "mola.rotate(\n",
    "              angle =np.pi+inclinacao,          # Informação par a rotação  do objeto\n",
    "              axis= vec(0,0,1)                  # Eixo em que o objeto gira\n",
    "             )\n"
   ]
  },
  {
   "cell_type": "markdown",
   "metadata": {},
   "source": [
    "O próximo passo é determinar os valores de gravidade e propriedade de tempo."
   ]
  },
  {
   "cell_type": "code",
   "execution_count": 7,
   "metadata": {},
   "outputs": [],
   "source": [
    "g = 9.8    #gravidade\n",
    "\n",
    "t = 0       #velocidade Inicial \n",
    "dt = 0.1  #Intervalo segundo por iteração"
   ]
  },
  {
   "cell_type": "markdown",
   "metadata": {},
   "source": [
    "### Determinar  a Física do movimento e Obtenção dos Dados"
   ]
  },
  {
   "cell_type": "markdown",
   "metadata": {},
   "source": [
    "Será utilizado a segunda lei de newton para descrever o movimento."
   ]
  },
  {
   "cell_type": "code",
   "execution_count": 8,
   "metadata": {},
   "outputs": [
    {
     "name": "stdout",
     "output_type": "stream",
     "text": [
      "<-0.073059, -0.073059, 0> <-0.48706, -0.48706, 0> 0.1\n",
      "<-0.133329, -0.133329, 0> <-0.564155, -0.564155, 0> 0.2\n",
      "<-0.200578, -0.200578, 0> <-0.636379, -0.636379, 0> 0.30000000000000004\n",
      "<-0.274235, -0.274235, 0> <-0.703169, -0.703169, 0> 0.4\n",
      "<-0.353677, -0.353677, 0> <-0.764007, -0.764007, 0> 0.5\n",
      "<-0.438241, -0.438241, 0> <-0.818424, -0.818424, 0> 0.6\n",
      "<-0.527221, -0.527221, 0> <-0.866008, -0.866008, 0> 0.7\n",
      "<-0.61988, -0.61988, 0> <-0.906401, -0.906401, 0> 0.7999999999999999\n",
      "<-0.715456, -0.715456, 0> <-0.939306, -0.939306, 0> 0.8999999999999999\n",
      "<-0.813164, -0.813164, 0> <-0.964487, -0.964487, 0> 0.9999999999999999\n",
      "<-0.912206, -0.912206, 0> <-0.981773, -0.981773, 0> 1.0999999999999999\n",
      "<-1.01178, -1.01178, 0> <-0.991055, -0.991055, 0> 1.2\n",
      "<-1.11107, -1.11107, 0> <-0.99229, -0.99229, 0> 1.3\n",
      "<-1.20928, -1.20928, 0> <-0.985501, -0.985501, 0> 1.4000000000000001\n",
      "<-1.30562, -1.30562, 0> <-0.970776, -0.970776, 0> 1.5000000000000002\n",
      "<-1.39932, -1.39932, 0> <-0.948265, -0.948265, 0> 1.6000000000000003\n",
      "<-1.48963, -1.48963, 0> <-0.918182, -0.918182, 0> 1.7000000000000004\n",
      "<-1.57584, -1.57584, 0> <-0.8808, -0.8808, 0> 1.8000000000000005\n",
      "<-1.65727, -1.65727, 0> <-0.836452, -0.836452, 0> 1.9000000000000006\n",
      "<-1.73328, -1.73328, 0> <-0.785523, -0.785523, 0> 2.0000000000000004\n",
      "<-1.80327, -1.80327, 0> <-0.728452, -0.728452, 0> 2.1000000000000005\n",
      "<-1.86671, -1.86671, 0> <-0.665725, -0.665725, 0> 2.2000000000000006\n",
      "<-1.9231, -1.9231, 0> <-0.597871, -0.597871, 0> 2.3000000000000007\n",
      "<-1.97203, -1.97203, 0> <-0.52546, -0.52546, 0> 2.400000000000001\n",
      "<-2.01312, -2.01312, 0> <-0.449096, -0.449096, 0> 2.500000000000001\n",
      "<-2.04607, -2.04607, 0> <-0.36941, -0.36941, 0> 2.600000000000001\n",
      "<-2.07066, -2.07066, 0> <-0.287062, -0.287062, 0> 2.700000000000001\n",
      "<-2.08672, -2.08672, 0> <-0.202726, -0.202726, 0> 2.800000000000001\n",
      "<-2.09415, -2.09415, 0> <-0.117093, -0.117093, 0> 2.9000000000000012\n",
      "<-2.09292, -2.09292, 0> <-0.030859, -0.030859, 0> 3.0000000000000013\n",
      "<-2.08309, -2.08309, 0> <0.0552754, 0.0552754, 0> 3.1000000000000014\n",
      "<-2.06564, -2.06564, 0> <0.134735, 0.134735, 0> 3.2000000000000015\n",
      "<-2.04046, -2.04046, 0> <0.212785, 0.212785, 0> 3.3000000000000016\n",
      "<-2.00778, -2.00778, 0> <0.2888, 0.2888, 0> 3.4000000000000017\n",
      "<-1.96789, -1.96789, 0> <0.362174, 0.362174, 0> 3.5000000000000018\n",
      "<-1.92115, -1.92115, 0> <0.432324, 0.432324, 0> 3.600000000000002\n",
      "<-1.86796, -1.86796, 0> <0.498698, 0.498698, 0> 3.700000000000002\n",
      "<-1.80878, -1.80878, 0> <0.560773, 0.560773, 0> 3.800000000000002\n",
      "<-1.74411, -1.74411, 0> <0.618066, 0.618066, 0> 3.900000000000002\n",
      "<-1.67449, -1.67449, 0> <0.670132, 0.670132, 0> 4.000000000000002\n",
      "<-1.60051, -1.60051, 0> <0.716573, 0.716573, 0> 4.100000000000001\n",
      "<-1.52279, -1.52279, 0> <0.757035, 0.757035, 0> 4.200000000000001\n",
      "<-1.44196, -1.44196, 0> <0.791216, 0.791216, 0> 4.300000000000001\n",
      "<-1.35869, -1.35869, 0> <0.818864, 0.818864, 0> 4.4\n",
      "<-1.27366, -1.27366, 0> <0.839784, 0.839784, 0> 4.5\n",
      "<-1.18758, -1.18758, 0> <0.853833, 0.853833, 0> 4.6\n",
      "<-1.10113, -1.10113, 0> <0.860924, 0.860924, 0> 4.699999999999999\n",
      "<-1.01502, -1.01502, 0> <0.86103, 0.86103, 0> 4.799999999999999\n",
      "<-0.929948, -0.929948, 0> <0.854178, 0.854178, 0> 4.899999999999999\n",
      "<-0.846589, -0.846589, 0> <0.84045, 0.84045, 0> 4.999999999999998\n",
      "<-0.765614, -0.765614, 0> <0.819986, 0.819986, 0> 5.099999999999998\n",
      "<-0.687667, -0.687667, 0> <0.792977, 0.792977, 0> 5.1999999999999975\n",
      "<-0.613365, -0.613365, 0> <0.75967, 0.75967, 0> 5.299999999999997\n",
      "<-0.543295, -0.543295, 0> <0.720359, 0.720359, 0> 5.399999999999997\n",
      "<-0.478005, -0.478005, 0> <0.675385, 0.675385, 0> 5.4999999999999964\n",
      "<-0.418004, -0.418004, 0> <0.625134, 0.625134, 0> 5.599999999999996\n",
      "<-0.363755, -0.363755, 0> <0.570035, 0.570035, 0> 5.699999999999996\n",
      "<-0.315674, -0.315674, 0> <0.510552, 0.510552, 0> 5.799999999999995\n",
      "<-0.274124, -0.274124, 0> <0.447183, 0.447183, 0> 5.899999999999995\n",
      "<-0.239415, -0.239415, 0> <0.380457, 0.380457, 0> 5.999999999999995\n",
      "<-0.211799, -0.211799, 0> <0.310926, 0.310926, 0> 6.099999999999994\n",
      "<-0.191471, -0.191471, 0> <0.239163, 0.239163, 0> 6.199999999999994\n",
      "<-0.178566, -0.178566, 0> <0.165757, 0.165757, 0> 6.299999999999994\n",
      "<-0.173157, -0.173157, 0> <0.0913081, 0.0913081, 0> 6.399999999999993\n",
      "<-0.175259, -0.175259, 0> <0.0164223, 0.0164223, 0> 6.499999999999993\n",
      "<-0.184824, -0.184824, 0> <-0.0582936, -0.0582936, 0> 6.5999999999999925\n",
      "<-0.200863, -0.200863, 0> <-0.126357, -0.126357, 0> 6.699999999999992\n",
      "<-0.223514, -0.223514, 0> <-0.193123, -0.193123, 0> 6.799999999999992\n",
      "<-0.252567, -0.252567, 0> <-0.25806, -0.25806, 0> 6.8999999999999915\n",
      "<-0.287761, -0.287761, 0> <-0.320648, -0.320648, 0> 6.999999999999991\n",
      "<-0.328787, -0.328787, 0> <-0.380393, -0.380393, 0> 7.099999999999991\n",
      "<-0.375291, -0.375291, 0> <-0.436821, -0.436821, 0> 7.19999999999999\n",
      "<-0.426874, -0.426874, 0> <-0.489492, -0.489492, 0> 7.29999999999999\n",
      "<-0.483098, -0.483098, 0> <-0.537995, -0.537995, 0> 7.39999999999999\n",
      "<-0.543492, -0.543492, 0> <-0.581953, -0.581953, 0> 7.499999999999989\n",
      "<-0.607549, -0.607549, 0> <-0.621032, -0.621032, 0> 7.599999999999989\n",
      "<-0.674737, -0.674737, 0> <-0.654933, -0.654933, 0> 7.699999999999989\n",
      "<-0.744501, -0.744501, 0> <-0.683405, -0.683405, 0> 7.799999999999988\n",
      "<-0.816267, -0.816267, 0> <-0.70624, -0.70624, 0> 7.899999999999988\n",
      "<-0.889446, -0.889446, 0> <-0.723274, -0.723274, 0> 7.999999999999988\n",
      "<-0.963442, -0.963442, 0> <-0.734395, -0.734395, 0> 8.099999999999987\n",
      "<-1.03765, -1.03765, 0> <-0.739536, -0.739536, 0> 8.199999999999987\n",
      "<-1.11148, -1.11148, 0> <-0.73868, -0.73868, 0> 8.299999999999986\n",
      "<-1.18432, -1.18432, 0> <-0.731858, -0.731858, 0> 8.399999999999986\n",
      "<-1.2556, -1.2556, 0> <-0.71915, -0.71915, 0> 8.499999999999986\n",
      "<-1.32475, -1.32475, 0> <-0.700681, -0.700681, 0> 8.599999999999985\n",
      "<-1.39121, -1.39121, 0> <-0.676624, -0.676624, 0> 8.699999999999985\n",
      "<-1.45445, -1.45445, 0> <-0.647196, -0.647196, 0> 8.799999999999985\n",
      "<-1.51399, -1.51399, 0> <-0.612658, -0.612658, 0> 8.899999999999984\n",
      "<-1.56936, -1.56936, 0> <-0.573308, -0.573308, 0> 8.999999999999984\n",
      "<-1.62011, -1.62011, 0> <-0.529483, -0.529483, 0> 9.099999999999984\n",
      "<-1.66587, -1.66587, 0> <-0.481558, -0.481558, 0> 9.199999999999983\n",
      "<-1.70629, -1.70629, 0> <-0.429934, -0.429934, 0> 9.299999999999983\n",
      "<-1.74104, -1.74104, 0> <-0.375044, -0.375044, 0> 9.399999999999983\n",
      "<-1.76989, -1.76989, 0> <-0.317345, -0.317345, 0> 9.499999999999982\n",
      "<-1.79262, -1.79262, 0> <-0.257315, -0.257315, 0> 9.599999999999982\n",
      "<-1.80908, -1.80908, 0> <-0.195448, -0.195448, 0> 9.699999999999982\n",
      "<-1.81914, -1.81914, 0> <-0.132252, -0.132252, 0> 9.799999999999981\n",
      "<-1.82277, -1.82277, 0> <-0.0682419, -0.0682419, 0> 9.89999999999998\n",
      "<-1.81994, -1.81994, 0> <-0.00393925, -0.00393925, 0> 9.99999999999998\n",
      "<-1.81073, -1.81073, 0> <0.0601354, 0.0601354, 0> 10.09999999999998\n"
     ]
    }
   ],
   "source": [
    "while (t < 10) :  #Intervalo de tempo que ocorre o movimento.\n",
    "\n",
    "  rate(10)  #Numero de iterações por segundo.\n",
    "\n",
    "  #Força Peso, direcionada ao centro da Terra.\n",
    "  peso = carro.massa*g\n",
    "  # Componente no eixo do movimento\n",
    "  pesox = -sin(inclinacao)*peso\n",
    "\n",
    "  \n",
    "  #Atrito  \n",
    "  if carro.vel.x > 0:\n",
    "    atrito = - cos(inclinacao)*peso*suporte.atrito\n",
    "  else:\n",
    "    atrito = + cos(inclinacao)*peso*suporte.atrito\n",
    "\n",
    "  # Força da mola\n",
    "  hook = np.sign(carro.pos.x)*(carro.pos.x-mola.length0)*mola.k\n",
    "  mola.length = mola.length0 - np.sign(carro.pos.x)*mag(carro.pos) \n",
    "\n",
    "  #Determinação da aceleração\n",
    "  acc = (pesox+atrito+hook)/carro.massa\n",
    "  \n",
    "  #Determinação da velocidade e posição\n",
    "\n",
    "  carro.vel = carro.vel + acc*dt*axisp\n",
    "  carro.pos = carro.pos + carro.vel*dt + acc/2*axisp*dt**2\n",
    "  t=t+dt\n",
    "    \n",
    "  #Dados de posição, instante, e velocidade\n",
    "  print (carro.pos,carro.vel,t)\n",
    " "
   ]
  },
  {
   "cell_type": "markdown",
   "metadata": {},
   "source": [
    "## Redução e Análise dos Dados"
   ]
  },
  {
   "cell_type": "markdown",
   "metadata": {},
   "source": [
    "- Faça um gráfico de pontos da variação de x contra o tempo. \n",
    "- Modele  uma  função  para  a  variação  de x contra  o  tempo. \n",
    "- Repita o procedimento acima para o eixo y.\n",
    "- Qual o ponto de repouso?\n",
    "\n",
    "- Vamos proceder para o cálculo das energias e mostrar que a   energia mecânica total se conserva. Comecemos pela energia potencial elástica(EPE). Para este sistema (carrinho e duas molas), teremos:\n",
    "$$\n",
    "\\begin{align}\n",
    "E_{PE} = \\frac{1}{2} k_e (s-L_0)^2\n",
    "\\end{align}\n",
    "$$\n",
    "onde $k_e$ é a  constante  elástica  equivalente, $s$é a  variável  comprimento  ao longo do trilho, $L_0$ é o ponto de repouso do carrinho quando o trilho está na horizontal, o qual ainda não conhecemos.\n",
    "- Calcule  o  valor  da  medida  de $k_e$,  sabendo  que  a  frequência  angular é $w = \\sqrt{\\frac{k_e}{m_c}}$. onde $m_C$é a massa do carrinho e $w$ vem dos ajustes feitos\n"
   ]
  },
  {
   "cell_type": "markdown",
   "metadata": {},
   "source": [
    "- $\\textit{(Relatório)}$  Faça  um  diagrama  de  forças  sobre  o  carrinho quando  este se  encontra  em repouso,  na  posição  de  equilíbrio($S_0$),  com  o  trilho inclinado. Em função do diagrama, mostre que o valor de $L_0$ é dado por:\n",
    "$$\n",
    "\\begin{align}\n",
    "L_0 = S_0 + \\frac{m_c \\cdot g \\cdot sen\\theta}{k_e} \\text{, com } S_0= \\sqrt{(x_0)^2 + (y_0)^2}\n",
    "\\end{align}\n",
    "$$"
   ]
  },
  {
   "cell_type": "markdown",
   "metadata": {},
   "source": [
    "- Determine  o  valor  da  medida  de $L_0$,  a  partir  dos  valores  de $x_0$ e $y_0$ ajustados nos gráficos; da massa do carrinho e do ângulo de inclinação do trilho medidos; da constante elástica equivalente determinada no passo anterior; e do valor canônico para a aceleração da gravidade ($g= 9,78520 m/s^2$)"
   ]
  },
  {
   "cell_type": "markdown",
   "metadata": {},
   "source": [
    "- Calcule  o  valor  da  energia  potencial  elástica  do  carrinhopara  cada instante de tempo."
   ]
  },
  {
   "cell_type": "markdown",
   "metadata": {},
   "source": [
    "- Vamos  calcular  o  valor  da  energia  potencial  gravitacional (EPG).  Para tanto, precisamos de um ponto referencial. Adotaremos o ponto mais baixo que o carrinho atinge. Assim, a energia potencial gravitacional fica: $$\n",
    "\\begin{align}\n",
    "E_{PG} = m_c \\cdot g \\cdot (y-y_o+B)\n",
    "\\end{align}\n",
    "$$"
   ]
  },
  {
   "cell_type": "markdown",
   "metadata": {},
   "source": [
    "- Determine   o   valor   da   energia   cinética($E_C$) utilizando a equação:. \n",
    "$$\n",
    "\\begin{align}\n",
    "E_c = \\frac{1}{2} \\cdot m_c \\cdot (v^2_x+v^2_y)\n",
    "\\end{align}\n",
    "$$"
   ]
  },
  {
   "cell_type": "markdown",
   "metadata": {},
   "source": [
    " - Determine os valores para a Energia Mecânica Total $(E_{MT})$. \n",
    " - Faça um gráfico de linha para as quatro energias calculadas.\n",
    " - $\\textit{(Relatório)}$ Disserte sobre o gráfico das energias,nfatizando a variação no tempo de cada uma (transformações de energia) e o comportamento da energia mecânica total.\n",
    " - $\\textit{(Relatório)}$   Verifique   e   disserte   sobre   a   conservação   da   energia mecânica total. Calcule a derivada temporal da energia mecânica. \n",
    " - $\\textit{(Relatório)}$  Disserte  sobre  o  comportamento  da  derivada  temporal  da energia  mecânica  total  do  carrinho,"
   ]
  },
  {
   "cell_type": "code",
   "execution_count": null,
   "metadata": {},
   "outputs": [],
   "source": []
  }
 ],
 "metadata": {
  "kernelspec": {
   "display_name": "Python 3",
   "language": "python",
   "name": "python3"
  },
  "language_info": {
   "codemirror_mode": {
    "name": "ipython",
    "version": 3
   },
   "file_extension": ".py",
   "mimetype": "text/x-python",
   "name": "python",
   "nbconvert_exporter": "python",
   "pygments_lexer": "ipython3",
   "version": "3.7.6"
  }
 },
 "nbformat": 4,
 "nbformat_minor": 4
}
